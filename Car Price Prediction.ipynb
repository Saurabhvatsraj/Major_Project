{
 "cells": [
  {
   "cell_type": "markdown",
   "id": "6c3c05aa",
   "metadata": {},
   "source": [
    "### Import Libraries"
   ]
  },
  {
   "cell_type": "code",
   "execution_count": 1,
   "id": "b3c856e0",
   "metadata": {},
   "outputs": [],
   "source": [
    "import pandas as pd\n",
    "import numpy as np\n",
    "import seaborn as sns\n",
    "import matplotlib.pyplot as plt"
   ]
  },
  {
   "cell_type": "markdown",
   "id": "bb0f4f05",
   "metadata": {},
   "source": [
    "### Upload Data"
   ]
  },
  {
   "cell_type": "code",
   "execution_count": 2,
   "id": "a90f5af9",
   "metadata": {},
   "outputs": [
    {
     "ename": "FileNotFoundError",
     "evalue": "[Errno 2] No such file or directory: 'C:\\\\Users\\\\saura\\\\Downloads\\\\CAR DETAILS FROM CAR DEKHO.csv'",
     "output_type": "error",
     "traceback": [
      "\u001b[1;31m---------------------------------------------------------------------------\u001b[0m",
      "\u001b[1;31mFileNotFoundError\u001b[0m                         Traceback (most recent call last)",
      "\u001b[1;32m~\\AppData\\Local\\Temp\\ipykernel_18488\\2536772360.py\u001b[0m in \u001b[0;36m<module>\u001b[1;34m\u001b[0m\n\u001b[1;32m----> 1\u001b[1;33m \u001b[0mdf\u001b[0m\u001b[1;33m=\u001b[0m\u001b[0mpd\u001b[0m\u001b[1;33m.\u001b[0m\u001b[0mread_csv\u001b[0m\u001b[1;33m(\u001b[0m\u001b[1;34mr'C:\\Users\\saura\\Downloads\\CAR DETAILS FROM CAR DEKHO.csv'\u001b[0m\u001b[1;33m)\u001b[0m\u001b[1;33m\u001b[0m\u001b[1;33m\u001b[0m\u001b[0m\n\u001b[0m",
      "\u001b[1;32m~\\anaconda3\\lib\\site-packages\\pandas\\util\\_decorators.py\u001b[0m in \u001b[0;36mwrapper\u001b[1;34m(*args, **kwargs)\u001b[0m\n\u001b[0;32m    309\u001b[0m                     \u001b[0mstacklevel\u001b[0m\u001b[1;33m=\u001b[0m\u001b[0mstacklevel\u001b[0m\u001b[1;33m,\u001b[0m\u001b[1;33m\u001b[0m\u001b[1;33m\u001b[0m\u001b[0m\n\u001b[0;32m    310\u001b[0m                 )\n\u001b[1;32m--> 311\u001b[1;33m             \u001b[1;32mreturn\u001b[0m \u001b[0mfunc\u001b[0m\u001b[1;33m(\u001b[0m\u001b[1;33m*\u001b[0m\u001b[0margs\u001b[0m\u001b[1;33m,\u001b[0m \u001b[1;33m**\u001b[0m\u001b[0mkwargs\u001b[0m\u001b[1;33m)\u001b[0m\u001b[1;33m\u001b[0m\u001b[1;33m\u001b[0m\u001b[0m\n\u001b[0m\u001b[0;32m    312\u001b[0m \u001b[1;33m\u001b[0m\u001b[0m\n\u001b[0;32m    313\u001b[0m         \u001b[1;32mreturn\u001b[0m \u001b[0mwrapper\u001b[0m\u001b[1;33m\u001b[0m\u001b[1;33m\u001b[0m\u001b[0m\n",
      "\u001b[1;32m~\\anaconda3\\lib\\site-packages\\pandas\\io\\parsers\\readers.py\u001b[0m in \u001b[0;36mread_csv\u001b[1;34m(filepath_or_buffer, sep, delimiter, header, names, index_col, usecols, squeeze, prefix, mangle_dupe_cols, dtype, engine, converters, true_values, false_values, skipinitialspace, skiprows, skipfooter, nrows, na_values, keep_default_na, na_filter, verbose, skip_blank_lines, parse_dates, infer_datetime_format, keep_date_col, date_parser, dayfirst, cache_dates, iterator, chunksize, compression, thousands, decimal, lineterminator, quotechar, quoting, doublequote, escapechar, comment, encoding, encoding_errors, dialect, error_bad_lines, warn_bad_lines, on_bad_lines, delim_whitespace, low_memory, memory_map, float_precision, storage_options)\u001b[0m\n\u001b[0;32m    676\u001b[0m     \u001b[0mkwds\u001b[0m\u001b[1;33m.\u001b[0m\u001b[0mupdate\u001b[0m\u001b[1;33m(\u001b[0m\u001b[0mkwds_defaults\u001b[0m\u001b[1;33m)\u001b[0m\u001b[1;33m\u001b[0m\u001b[1;33m\u001b[0m\u001b[0m\n\u001b[0;32m    677\u001b[0m \u001b[1;33m\u001b[0m\u001b[0m\n\u001b[1;32m--> 678\u001b[1;33m     \u001b[1;32mreturn\u001b[0m \u001b[0m_read\u001b[0m\u001b[1;33m(\u001b[0m\u001b[0mfilepath_or_buffer\u001b[0m\u001b[1;33m,\u001b[0m \u001b[0mkwds\u001b[0m\u001b[1;33m)\u001b[0m\u001b[1;33m\u001b[0m\u001b[1;33m\u001b[0m\u001b[0m\n\u001b[0m\u001b[0;32m    679\u001b[0m \u001b[1;33m\u001b[0m\u001b[0m\n\u001b[0;32m    680\u001b[0m \u001b[1;33m\u001b[0m\u001b[0m\n",
      "\u001b[1;32m~\\anaconda3\\lib\\site-packages\\pandas\\io\\parsers\\readers.py\u001b[0m in \u001b[0;36m_read\u001b[1;34m(filepath_or_buffer, kwds)\u001b[0m\n\u001b[0;32m    573\u001b[0m \u001b[1;33m\u001b[0m\u001b[0m\n\u001b[0;32m    574\u001b[0m     \u001b[1;31m# Create the parser.\u001b[0m\u001b[1;33m\u001b[0m\u001b[1;33m\u001b[0m\u001b[0m\n\u001b[1;32m--> 575\u001b[1;33m     \u001b[0mparser\u001b[0m \u001b[1;33m=\u001b[0m \u001b[0mTextFileReader\u001b[0m\u001b[1;33m(\u001b[0m\u001b[0mfilepath_or_buffer\u001b[0m\u001b[1;33m,\u001b[0m \u001b[1;33m**\u001b[0m\u001b[0mkwds\u001b[0m\u001b[1;33m)\u001b[0m\u001b[1;33m\u001b[0m\u001b[1;33m\u001b[0m\u001b[0m\n\u001b[0m\u001b[0;32m    576\u001b[0m \u001b[1;33m\u001b[0m\u001b[0m\n\u001b[0;32m    577\u001b[0m     \u001b[1;32mif\u001b[0m \u001b[0mchunksize\u001b[0m \u001b[1;32mor\u001b[0m \u001b[0miterator\u001b[0m\u001b[1;33m:\u001b[0m\u001b[1;33m\u001b[0m\u001b[1;33m\u001b[0m\u001b[0m\n",
      "\u001b[1;32m~\\anaconda3\\lib\\site-packages\\pandas\\io\\parsers\\readers.py\u001b[0m in \u001b[0;36m__init__\u001b[1;34m(self, f, engine, **kwds)\u001b[0m\n\u001b[0;32m    930\u001b[0m \u001b[1;33m\u001b[0m\u001b[0m\n\u001b[0;32m    931\u001b[0m         \u001b[0mself\u001b[0m\u001b[1;33m.\u001b[0m\u001b[0mhandles\u001b[0m\u001b[1;33m:\u001b[0m \u001b[0mIOHandles\u001b[0m \u001b[1;33m|\u001b[0m \u001b[1;32mNone\u001b[0m \u001b[1;33m=\u001b[0m \u001b[1;32mNone\u001b[0m\u001b[1;33m\u001b[0m\u001b[1;33m\u001b[0m\u001b[0m\n\u001b[1;32m--> 932\u001b[1;33m         \u001b[0mself\u001b[0m\u001b[1;33m.\u001b[0m\u001b[0m_engine\u001b[0m \u001b[1;33m=\u001b[0m \u001b[0mself\u001b[0m\u001b[1;33m.\u001b[0m\u001b[0m_make_engine\u001b[0m\u001b[1;33m(\u001b[0m\u001b[0mf\u001b[0m\u001b[1;33m,\u001b[0m \u001b[0mself\u001b[0m\u001b[1;33m.\u001b[0m\u001b[0mengine\u001b[0m\u001b[1;33m)\u001b[0m\u001b[1;33m\u001b[0m\u001b[1;33m\u001b[0m\u001b[0m\n\u001b[0m\u001b[0;32m    933\u001b[0m \u001b[1;33m\u001b[0m\u001b[0m\n\u001b[0;32m    934\u001b[0m     \u001b[1;32mdef\u001b[0m \u001b[0mclose\u001b[0m\u001b[1;33m(\u001b[0m\u001b[0mself\u001b[0m\u001b[1;33m)\u001b[0m\u001b[1;33m:\u001b[0m\u001b[1;33m\u001b[0m\u001b[1;33m\u001b[0m\u001b[0m\n",
      "\u001b[1;32m~\\anaconda3\\lib\\site-packages\\pandas\\io\\parsers\\readers.py\u001b[0m in \u001b[0;36m_make_engine\u001b[1;34m(self, f, engine)\u001b[0m\n\u001b[0;32m   1214\u001b[0m             \u001b[1;31m# \"Union[str, PathLike[str], ReadCsvBuffer[bytes], ReadCsvBuffer[str]]\"\u001b[0m\u001b[1;33m\u001b[0m\u001b[1;33m\u001b[0m\u001b[0m\n\u001b[0;32m   1215\u001b[0m             \u001b[1;31m# , \"str\", \"bool\", \"Any\", \"Any\", \"Any\", \"Any\", \"Any\"\u001b[0m\u001b[1;33m\u001b[0m\u001b[1;33m\u001b[0m\u001b[0m\n\u001b[1;32m-> 1216\u001b[1;33m             self.handles = get_handle(  # type: ignore[call-overload]\n\u001b[0m\u001b[0;32m   1217\u001b[0m                 \u001b[0mf\u001b[0m\u001b[1;33m,\u001b[0m\u001b[1;33m\u001b[0m\u001b[1;33m\u001b[0m\u001b[0m\n\u001b[0;32m   1218\u001b[0m                 \u001b[0mmode\u001b[0m\u001b[1;33m,\u001b[0m\u001b[1;33m\u001b[0m\u001b[1;33m\u001b[0m\u001b[0m\n",
      "\u001b[1;32m~\\anaconda3\\lib\\site-packages\\pandas\\io\\common.py\u001b[0m in \u001b[0;36mget_handle\u001b[1;34m(path_or_buf, mode, encoding, compression, memory_map, is_text, errors, storage_options)\u001b[0m\n\u001b[0;32m    784\u001b[0m         \u001b[1;32mif\u001b[0m \u001b[0mioargs\u001b[0m\u001b[1;33m.\u001b[0m\u001b[0mencoding\u001b[0m \u001b[1;32mand\u001b[0m \u001b[1;34m\"b\"\u001b[0m \u001b[1;32mnot\u001b[0m \u001b[1;32min\u001b[0m \u001b[0mioargs\u001b[0m\u001b[1;33m.\u001b[0m\u001b[0mmode\u001b[0m\u001b[1;33m:\u001b[0m\u001b[1;33m\u001b[0m\u001b[1;33m\u001b[0m\u001b[0m\n\u001b[0;32m    785\u001b[0m             \u001b[1;31m# Encoding\u001b[0m\u001b[1;33m\u001b[0m\u001b[1;33m\u001b[0m\u001b[0m\n\u001b[1;32m--> 786\u001b[1;33m             handle = open(\n\u001b[0m\u001b[0;32m    787\u001b[0m                 \u001b[0mhandle\u001b[0m\u001b[1;33m,\u001b[0m\u001b[1;33m\u001b[0m\u001b[1;33m\u001b[0m\u001b[0m\n\u001b[0;32m    788\u001b[0m                 \u001b[0mioargs\u001b[0m\u001b[1;33m.\u001b[0m\u001b[0mmode\u001b[0m\u001b[1;33m,\u001b[0m\u001b[1;33m\u001b[0m\u001b[1;33m\u001b[0m\u001b[0m\n",
      "\u001b[1;31mFileNotFoundError\u001b[0m: [Errno 2] No such file or directory: 'C:\\\\Users\\\\saura\\\\Downloads\\\\CAR DETAILS FROM CAR DEKHO.csv'"
     ]
    }
   ],
   "source": [
    "df=pd.read_csv(r'C:\\Users\\saura\\Downloads\\CAR DETAILS FROM CAR DEKHO.csv')"
   ]
  },
  {
   "cell_type": "code",
   "execution_count": null,
   "id": "d5c3b468",
   "metadata": {},
   "outputs": [],
   "source": [
    "df"
   ]
  },
  {
   "cell_type": "markdown",
   "id": "a011c5ab",
   "metadata": {},
   "source": [
    "# In Data Analysis what we are going to do is¶\n",
    "1.Missing value\n",
    "\n",
    "2.Explore about numerical variable\n",
    "\n",
    "3.Explore about catigorical variable\n",
    "\n",
    "4.Finding relationship between feature"
   ]
  },
  {
   "cell_type": "code",
   "execution_count": null,
   "id": "ea902ac4",
   "metadata": {},
   "outputs": [],
   "source": [
    "df.shape"
   ]
  },
  {
   "cell_type": "code",
   "execution_count": null,
   "id": "779c9942",
   "metadata": {},
   "outputs": [],
   "source": [
    "df.info()"
   ]
  },
  {
   "cell_type": "code",
   "execution_count": null,
   "id": "56ff919e",
   "metadata": {},
   "outputs": [],
   "source": [
    "df.columns"
   ]
  },
  {
   "cell_type": "markdown",
   "id": "a9ee4d1c",
   "metadata": {},
   "source": [
    "# Null Value"
   ]
  },
  {
   "cell_type": "code",
   "execution_count": null,
   "id": "1da2fe5b",
   "metadata": {},
   "outputs": [],
   "source": [
    "df.isnull().sum()"
   ]
  },
  {
   "cell_type": "markdown",
   "id": "d7661ec7",
   "metadata": {},
   "source": [
    "### Represent the missing value by graph"
   ]
  },
  {
   "cell_type": "code",
   "execution_count": null,
   "id": "3d388a3b",
   "metadata": {},
   "outputs": [],
   "source": [
    "plt.figure(figsize=(12,8))\n",
    "sns.heatmap(df.isnull())"
   ]
  },
  {
   "cell_type": "markdown",
   "id": "84b8d441",
   "metadata": {},
   "source": [
    "### Find Corelation"
   ]
  },
  {
   "cell_type": "code",
   "execution_count": null,
   "id": "9137417b",
   "metadata": {},
   "outputs": [],
   "source": [
    "df.corr()"
   ]
  },
  {
   "cell_type": "markdown",
   "id": "f280b2b3",
   "metadata": {},
   "source": [
    "### Represent the Corelation by graph"
   ]
  },
  {
   "cell_type": "code",
   "execution_count": null,
   "id": "51f1c1bc",
   "metadata": {},
   "outputs": [],
   "source": [
    "plt.figure(figsize=(12,8))\n",
    "sns.heatmap(df.corr(),annot=True)"
   ]
  },
  {
   "cell_type": "markdown",
   "id": "cdb294c4",
   "metadata": {},
   "source": [
    "### Statistical Analysis"
   ]
  },
  {
   "cell_type": "code",
   "execution_count": null,
   "id": "29763b1f",
   "metadata": {},
   "outputs": [],
   "source": [
    "df.describe()"
   ]
  },
  {
   "cell_type": "markdown",
   "id": "8bf7cb0e",
   "metadata": {},
   "source": [
    "### The describe () function in Python summarizes statistics. This function returns the count, mean, standard deviation, minimum and maximum values, and the quantiles of the data."
   ]
  },
  {
   "cell_type": "markdown",
   "id": "ce0f2a5b",
   "metadata": {},
   "source": [
    "# EDA & Vizualisation"
   ]
  },
  {
   "cell_type": "code",
   "execution_count": null,
   "id": "10646036",
   "metadata": {},
   "outputs": [],
   "source": [
    "#HOW MANY FUEL TYPE AND MAX & MIN NUMBER OF FUEL\n",
    "\n",
    "plt.title(\"FUEL COUNT\" , fontsize=20)\n",
    "plt.xlabel('FUEL TYPE',fontsize=30)\n",
    "plt.ylabel('COUNT',fontsize=30)\n",
    "\n",
    "sns.countplot(x='fuel',data=df)"
   ]
  },
  {
   "cell_type": "markdown",
   "id": "63b9d2eb",
   "metadata": {},
   "source": [
    "There are 5 types of fuel like petrol,diesel,CNG,LPG,Electric and max number of car fuel type is Diesel and min is electic"
   ]
  },
  {
   "cell_type": "code",
   "execution_count": null,
   "id": "40ad7aa5",
   "metadata": {},
   "outputs": [],
   "source": [
    "# LET'S SEE FUEL TYPE ON THE BASIS OF  OWNER\n",
    "\n",
    "plt.title(\"FUEL ON THE BASIS OF OWNER\" , fontsize=20)\n",
    "plt.xlabel('FUEL TYPE',fontsize=30)\n",
    "plt.ylabel('COUNT',fontsize=30)\n",
    "\n",
    "sns.countplot(x='fuel',data=df,hue='owner')"
   ]
  },
  {
   "cell_type": "markdown",
   "id": "a6cc520f",
   "metadata": {},
   "source": [
    "Number of first  and secon owner is equal in petrol "
   ]
  },
  {
   "cell_type": "code",
   "execution_count": null,
   "id": "2c44ed04",
   "metadata": {},
   "outputs": [],
   "source": [
    "#LET'S SEE FUEL TYPE ON THE BASIS OF  TRANSMISSION\n",
    "\n",
    "\n",
    "plt.title(\"FUEL ON THE BASIS OF TRANSMISSION\" , fontsize=20)\n",
    "plt.xlabel('FUEL TYPE',fontsize=30)\n",
    "plt.ylabel('COUNT',fontsize=30)\n",
    "\n",
    "sns.countplot(x='fuel',data=df,hue='transmission')"
   ]
  },
  {
   "cell_type": "code",
   "execution_count": null,
   "id": "0d643de2",
   "metadata": {},
   "outputs": [],
   "source": [
    "plt.title(\"FUEL COUNT\" , fontsize=20)\n",
    "plt.xlabel('FUEL TYPE',fontsize=30)\n",
    "plt.ylabel('COUNT',fontsize=30)\n",
    "\n",
    "sns.countplot(x='fuel',data=df,hue='seller_type')"
   ]
  },
  {
   "cell_type": "markdown",
   "id": "b80786c4",
   "metadata": {},
   "source": [
    "Individual  seller is equal in petrol and diesel"
   ]
  },
  {
   "cell_type": "code",
   "execution_count": null,
   "id": "ec05d52b",
   "metadata": {},
   "outputs": [],
   "source": [
    "#NOW WE SEE HOW MANY SELLER TYPE AND ALSO FIND NUMBER OF SELLER TYPE\n",
    "plt.title(\"COUNT OF SELLER TYPE\" , fontsize=20)\n",
    "plt.xlabel('SELLER TYPE',fontsize=30)\n",
    "plt.ylabel('COUNT',fontsize=30)\n",
    "sns.countplot(x='seller_type',data=df)"
   ]
  },
  {
   "cell_type": "markdown",
   "id": "0895ad4e",
   "metadata": {},
   "source": [
    "In this data set there are 3 types of seller. max number of seller type is individual and min number of seller type is Trustmark dealer "
   ]
  },
  {
   "cell_type": "code",
   "execution_count": null,
   "id": "c38eb5b5",
   "metadata": {},
   "outputs": [],
   "source": [
    "# SEE HOW MANY TYPES OF OWNER PRESENT IN THIS DATA SET AND ALSO FIND MAX AND MIN OWNER\n",
    "plt.figure(figsize=(10,10))\n",
    "plt.title(\"COUNT OF OWNER\" , fontsize=30)\n",
    "\n",
    "plt.xlabel('OWNER',fontsize=20)\n",
    "plt.ylabel('COUNT',fontsize=20)\n",
    "\n",
    "sns.countplot(x='owner',data=df)\n"
   ]
  },
  {
   "cell_type": "markdown",
   "id": "a70ecc5b",
   "metadata": {},
   "source": [
    "There are five types of owner in this data and max number of owner is First owner and min is test driver"
   ]
  },
  {
   "cell_type": "code",
   "execution_count": null,
   "id": "76a2cc2f",
   "metadata": {},
   "outputs": [],
   "source": [
    "# LET'S SEE OWNER COUNT ON THE BASES OF YEAR\n",
    "plt.figure(figsize=(20,20))\n",
    "plt.title(\"OWNER COUNT ON THE BASES OF YEAR\" , fontsize=40)\n",
    "\n",
    "plt.xlabel('year',fontsize=20)\n",
    "plt.ylabel('COUNT',fontsize=20)\n",
    "sns.countplot(x='year',data=df,hue='owner')"
   ]
  },
  {
   "cell_type": "code",
   "execution_count": null,
   "id": "61a52b69",
   "metadata": {},
   "outputs": [],
   "source": [
    "# LET'S SEE YEAR ON THE BASIS OF OWNER\n",
    "plt.figure(figsize=(20,20))\n",
    "plt.title(\" SELLER COUNT ON THE BASIS OF YEAR \" , fontsize=40)\n",
    "\n",
    "plt.xlabel('year',fontsize=20)\n",
    "plt.ylabel('COUNT',fontsize=20)\n",
    "sns.countplot(x='year',data=df,hue='seller_type')"
   ]
  },
  {
   "cell_type": "code",
   "execution_count": null,
   "id": "27a6683f",
   "metadata": {},
   "outputs": [],
   "source": [
    "# LET'S SEE COUNT OF FUEL TYPE ON THA BASIS OF YEAR\n",
    "\n",
    "plt.figure(figsize=(20,20))\n",
    "plt.title(\"FUEL COUNT ON THE BASES OF YEAR\" , fontsize=40)\n",
    "\n",
    "plt.xlabel('year',fontsize=20)\n",
    "plt.ylabel('COUNT',fontsize=20)\n",
    "sns.countplot(x='year',data=df,hue='fuel')"
   ]
  },
  {
   "cell_type": "code",
   "execution_count": null,
   "id": "1a052f1f",
   "metadata": {},
   "outputs": [],
   "source": [
    "# LET'S SEE COUNT OF TRANSMISSION  ON THE BASES OF YEAR\n",
    "plt.figure(figsize=(20,20))\n",
    "plt.title(\"COUNT OF TRANSMISSION ON THE BASES OF YEAR\" , fontsize=40)\n",
    "\n",
    "plt.xlabel('year',fontsize=20)\n",
    "plt.ylabel('COUNT',fontsize=20)\n",
    "sns.countplot(x='year',data=df,hue='transmission')"
   ]
  },
  {
   "cell_type": "code",
   "execution_count": null,
   "id": "e7baaed9",
   "metadata": {},
   "outputs": [],
   "source": [
    "# LET'S SEE PRICE ON THE BASIS OF FUEL TYPE\n",
    "plt.title(\"SELLING PRICE ON THE BASIS OF FUEL\" , fontsize=30)\n",
    "plt.xlabel('fuel',fontsize=20)\n",
    "plt.ylabel('km drive',fontsize=20)\n",
    "sns.barplot(x='fuel',y='selling_price',data=df)"
   ]
  },
  {
   "cell_type": "markdown",
   "id": "cc07b3d7",
   "metadata": {},
   "source": [
    "Disel price is max compare to others and min price is LPG"
   ]
  },
  {
   "cell_type": "code",
   "execution_count": null,
   "id": "ac4e5961",
   "metadata": {},
   "outputs": [],
   "source": [
    "# FIND MAX AND MIN DISTANCE COVERED BY CAR ON THE BASIS OF FUEL TYPE\n",
    "plt.title(\"DISTANCE  ON THE BASIS OF FUEL\" , fontsize=30)\n",
    "plt.xlabel('fuel',fontsize=20)\n",
    "plt.ylabel('selling price',fontsize=20)\n",
    "sns.barplot(x='fuel',y='km_driven',data=df)"
   ]
  },
  {
   "cell_type": "markdown",
   "id": "61c4e366",
   "metadata": {},
   "source": [
    "LPG cars has max distance covered and min distance coverd by petrol "
   ]
  },
  {
   "cell_type": "code",
   "execution_count": null,
   "id": "ad6391a7",
   "metadata": {},
   "outputs": [],
   "source": [
    "# FIND MAX AND MIN DISTANCE COVERED BY CAR ON THE BASIS OF Transmission\n",
    "plt.title(\"DISTANCE  ON THE BASIS OF TRANSMISSION\" , fontsize=20)\n",
    "plt.xlabel('transmision',fontsize=20)\n",
    "plt.ylabel('covered distance',fontsize=20)\n",
    "sns.barplot(x='transmission',y='km_driven',data=df)"
   ]
  },
  {
   "cell_type": "markdown",
   "id": "db0f422a",
   "metadata": {},
   "source": [
    "max distance coverd by manual compare to automatic"
   ]
  },
  {
   "cell_type": "code",
   "execution_count": null,
   "id": "9970d077",
   "metadata": {},
   "outputs": [],
   "source": [
    "# FIND MAX AND MIN Selling price BY CAR ON THE BASIS OF manual or automatic\n",
    "plt.title(\"PRICE ON THE BASES OF TRANSMISSION\" , fontsize=20)\n",
    "plt.xlabel('transmission',fontsize=20)\n",
    "plt.ylabel('selling price',fontsize=20)\n",
    "sns.barplot(x='transmission',y='selling_price',data=df)"
   ]
  },
  {
   "cell_type": "markdown",
   "id": "724ea7ab",
   "metadata": {},
   "source": [
    "automatic car price is max compare to manual"
   ]
  },
  {
   "cell_type": "code",
   "execution_count": null,
   "id": "d6a2ea29",
   "metadata": {},
   "outputs": [],
   "source": [
    "# lets see transmission on the basis of owner\n",
    "plt.title(\"OWNER COUNT ON THE BASES OF TRANSMISSION\" , fontsize=20)\n",
    "plt.xlabel('transmission',fontsize=20)\n",
    "plt.ylabel('count',fontsize=20)\n",
    "sns.countplot(x='transmission',data=df,hue='owner')"
   ]
  },
  {
   "cell_type": "markdown",
   "id": "891d707f",
   "metadata": {},
   "source": [
    "First owner is max comapre on manual compare to automatic"
   ]
  },
  {
   "cell_type": "code",
   "execution_count": null,
   "id": "340cf66c",
   "metadata": {},
   "outputs": [],
   "source": [
    "# lets see fuel on the basis of owner\n",
    "plt.title(\"OWNER COUNT ON THE BASES OF FUEL\" , fontsize=20)\n",
    "plt.xlabel('fuel',fontsize=30)\n",
    "plt.ylabel('count',fontsize=30)\n",
    "sns.countplot(x='fuel',data=df,hue='owner')"
   ]
  },
  {
   "cell_type": "markdown",
   "id": "bef36aca",
   "metadata": {},
   "source": [
    "First owner is almost equal to petrol and diesel"
   ]
  },
  {
   "cell_type": "code",
   "execution_count": null,
   "id": "7f6ea9ff",
   "metadata": {},
   "outputs": [],
   "source": [
    "# Lets see selling price on the basis of owner\n",
    "plt.figure(figsize=(10,10))\n",
    "plt.title(\"SELLING PRICE ON THE BASES OF OWNER\" , fontsize=30)\n",
    "\n",
    "\n",
    "plt.xlabel('year',fontsize=30)\n",
    "plt.ylabel('COUNT',fontsize=30)\n",
    "\n",
    "sns.barplot(x='owner',y='selling_price',data=df)"
   ]
  },
  {
   "cell_type": "code",
   "execution_count": null,
   "id": "73af649f",
   "metadata": {},
   "outputs": [],
   "source": [
    "# Lets see selling price on the basis of owner\n",
    "\n",
    "plt.figure(figsize=(10,10))\n",
    "plt.xlabel('selling price',fontsize=30)\n",
    "plt.ylabel('owner',fontsize=30)\n",
    "\n",
    "sns.boxplot(x='selling_price',y='owner',data=df)"
   ]
  },
  {
   "cell_type": "code",
   "execution_count": null,
   "id": "36cac575",
   "metadata": {},
   "outputs": [],
   "source": [
    "# Lets see selling price on the basis of transmission\n",
    "\n",
    "plt.figure(figsize=(10,10))\n",
    "plt.xlabel('selling price',fontsize=30)\n",
    "plt.ylabel('owner',fontsize=30)\n",
    "\n",
    "sns.boxplot(x='transmission',y= 'km_driven',data=df)"
   ]
  },
  {
   "cell_type": "markdown",
   "id": "e941ecde",
   "metadata": {},
   "source": [
    "# Outlier Detection"
   ]
  },
  {
   "cell_type": "code",
   "execution_count": null,
   "id": "f17576c6",
   "metadata": {},
   "outputs": [],
   "source": [
    "# LET'S SEE OUTLIER OF YEAR\n",
    "\n",
    "plt.figure(figsize=(10,10))\n",
    "sns.boxplot(x='year',data=df)"
   ]
  },
  {
   "cell_type": "code",
   "execution_count": null,
   "id": "dd35dfdd",
   "metadata": {},
   "outputs": [],
   "source": [
    "# LET'S SEE OUTLIER OF SELLING PRICE\n",
    "\n",
    "\n",
    "plt.figure(figsize=(10,10))\n",
    "sns.boxplot(x='selling_price',data=df)"
   ]
  },
  {
   "cell_type": "code",
   "execution_count": null,
   "id": "73ea0a0b",
   "metadata": {},
   "outputs": [],
   "source": [
    "# LET'S SEE OUTLIER OF KM_DRIVEN\n",
    "\n",
    "\n",
    "plt.figure(figsize=(10,10))\n",
    "sns.boxplot(x='km_driven',data=df)"
   ]
  },
  {
   "cell_type": "markdown",
   "id": "a63426dd",
   "metadata": {},
   "source": [
    "# Handle OUTLIERS"
   ]
  },
  {
   "cell_type": "code",
   "execution_count": null,
   "id": "8586b12b",
   "metadata": {},
   "outputs": [],
   "source": [
    "# SEE SKEW OF YEAR\n",
    "\n",
    "plt.figure(figsize=(16,5))\n",
    "plt.subplot(1,2,1)\n",
    "sns.distplot(df['year'])\n"
   ]
  },
  {
   "cell_type": "code",
   "execution_count": null,
   "id": "1e382857",
   "metadata": {},
   "outputs": [],
   "source": [
    "skew_of_year=df['year'].skew()\n",
    "skew_of_year"
   ]
  },
  {
   "cell_type": "code",
   "execution_count": null,
   "id": "1ef580ae",
   "metadata": {},
   "outputs": [],
   "source": [
    "# LET'S SEE SKEW OF SELLING PRICE\n",
    "\n",
    "\n",
    "plt.figure(figsize=(10,10))\n",
    "plt.subplot(1,2,1)\n",
    "sns.distplot(df['selling_price'])\n",
    "\n"
   ]
  },
  {
   "cell_type": "code",
   "execution_count": null,
   "id": "dd574ad6",
   "metadata": {},
   "outputs": [],
   "source": [
    "skew_of_price=df['selling_price'].skew()\n",
    "skew_of_price"
   ]
  },
  {
   "cell_type": "code",
   "execution_count": null,
   "id": "787ebe3c",
   "metadata": {},
   "outputs": [],
   "source": [
    "# LET'S SEE SKEW OF KM_DRIVEN\n",
    "\n",
    "\n",
    "plt.figure(figsize=(10,10))\n",
    "plt.subplot(1,2,1)\n",
    "sns.distplot(df['km_driven'])"
   ]
  },
  {
   "cell_type": "code",
   "execution_count": null,
   "id": "97e437b4",
   "metadata": {},
   "outputs": [],
   "source": [
    "skew_of_distance=df['km_driven'].skew()\n",
    "skew_of_distance"
   ]
  },
  {
   "cell_type": "code",
   "execution_count": null,
   "id": "bd32589d",
   "metadata": {},
   "outputs": [],
   "source": [
    "# handle the ouliers of year\n",
    "mean=df['year'].mean()\n",
    "mean"
   ]
  },
  {
   "cell_type": "code",
   "execution_count": null,
   "id": "813911a6",
   "metadata": {},
   "outputs": [],
   "source": [
    "std_dev = df['year'].std()\n",
    "std_dev"
   ]
  },
  {
   "cell_type": "code",
   "execution_count": null,
   "id": "f7c1ffb9",
   "metadata": {},
   "outputs": [],
   "source": [
    "upper_limit = mean + 3 * std_dev\n",
    "upper_limit"
   ]
  },
  {
   "cell_type": "code",
   "execution_count": null,
   "id": "c91142d6",
   "metadata": {},
   "outputs": [],
   "source": [
    "lower_limit = mean - 3 * std_dev\n",
    "lower_limit"
   ]
  },
  {
   "cell_type": "code",
   "execution_count": null,
   "id": "e86420ba",
   "metadata": {},
   "outputs": [],
   "source": [
    "# capping\n",
    "df['year'] = np.where(\n",
    "            df['year']>upper_limit,\n",
    "            upper_limit,\n",
    "            np.where(\n",
    "            df['year']<lower_limit,\n",
    "            lower_limit,\n",
    "            df['year']))"
   ]
  },
  {
   "cell_type": "code",
   "execution_count": null,
   "id": "af34b493",
   "metadata": {},
   "outputs": [],
   "source": [
    "df"
   ]
  },
  {
   "cell_type": "code",
   "execution_count": null,
   "id": "6d5e029a",
   "metadata": {},
   "outputs": [],
   "source": [
    "# handle the outlier of selling price\n",
    "\n",
    "mean = df['selling_price'].mean()"
   ]
  },
  {
   "cell_type": "code",
   "execution_count": null,
   "id": "b7a56f7a",
   "metadata": {},
   "outputs": [],
   "source": [
    "mean"
   ]
  },
  {
   "cell_type": "code",
   "execution_count": null,
   "id": "2b3d7d2e",
   "metadata": {},
   "outputs": [],
   "source": [
    "std_dev=df['selling_price'].std()"
   ]
  },
  {
   "cell_type": "code",
   "execution_count": null,
   "id": "f394771d",
   "metadata": {},
   "outputs": [],
   "source": [
    "std_dev"
   ]
  },
  {
   "cell_type": "code",
   "execution_count": null,
   "id": "7fcc1e28",
   "metadata": {},
   "outputs": [],
   "source": [
    "upper_limit = mean + 3 * std_dev\n",
    "upper_limit"
   ]
  },
  {
   "cell_type": "code",
   "execution_count": null,
   "id": "98c14de2",
   "metadata": {},
   "outputs": [],
   "source": [
    "lowe_limit = mean + 3 * std_dev\n",
    "lower_limit"
   ]
  },
  {
   "cell_type": "code",
   "execution_count": null,
   "id": "7fb9bd1e",
   "metadata": {},
   "outputs": [],
   "source": [
    "# capping\n",
    "df['selling_price'] = np.where(\n",
    "            df['selling_price']>upper_limit,\n",
    "            upper_limit,\n",
    "            np.where(\n",
    "            df['selling_price']<lower_limit,\n",
    "            lower_limit,\n",
    "            df['selling_price']))"
   ]
  },
  {
   "cell_type": "code",
   "execution_count": null,
   "id": "b4228eda",
   "metadata": {},
   "outputs": [],
   "source": [
    "df"
   ]
  },
  {
   "cell_type": "code",
   "execution_count": null,
   "id": "8d33902c",
   "metadata": {},
   "outputs": [],
   "source": [
    "# handle the outlier of km-driven\n",
    "mean=df['km_driven'].mean()"
   ]
  },
  {
   "cell_type": "code",
   "execution_count": null,
   "id": "bc875d1a",
   "metadata": {},
   "outputs": [],
   "source": [
    "mean"
   ]
  },
  {
   "cell_type": "code",
   "execution_count": null,
   "id": "48d07077",
   "metadata": {},
   "outputs": [],
   "source": [
    "std_dev=df['km_driven'].std()"
   ]
  },
  {
   "cell_type": "code",
   "execution_count": null,
   "id": "3defdecc",
   "metadata": {},
   "outputs": [],
   "source": [
    "std_dev"
   ]
  },
  {
   "cell_type": "code",
   "execution_count": null,
   "id": "84278220",
   "metadata": {},
   "outputs": [],
   "source": [
    "upper_limit = mean + 3 * std_dev\n",
    "upper_limit"
   ]
  },
  {
   "cell_type": "code",
   "execution_count": null,
   "id": "35812967",
   "metadata": {},
   "outputs": [],
   "source": [
    "lowe_limit = mean + 3 * std_dev\n",
    "lower_limit"
   ]
  },
  {
   "cell_type": "code",
   "execution_count": null,
   "id": "2c182eaf",
   "metadata": {},
   "outputs": [],
   "source": [
    "# capping\n",
    "df['km_driven'] = np.where(\n",
    "            df['km_driven']>upper_limit,\n",
    "            upper_limit,\n",
    "            np.where(\n",
    "            df['km_driven']<lower_limit,\n",
    "            lower_limit,\n",
    "            df['km_driven']))"
   ]
  },
  {
   "cell_type": "code",
   "execution_count": null,
   "id": "4d364b01",
   "metadata": {},
   "outputs": [],
   "source": [
    "df"
   ]
  },
  {
   "cell_type": "markdown",
   "id": "61448fb8",
   "metadata": {},
   "source": [
    "### Now we see how to perform outliers after handle the outliers"
   ]
  },
  {
   "cell_type": "code",
   "execution_count": null,
   "id": "d187bdc5",
   "metadata": {},
   "outputs": [],
   "source": [
    "# let's see year outlier\n",
    "\n",
    "\n",
    "plt.figure(figsize=(10,10))\n",
    "sns.boxplot(x='year',data=df)"
   ]
  },
  {
   "cell_type": "code",
   "execution_count": null,
   "id": "80ef07c7",
   "metadata": {},
   "outputs": [],
   "source": [
    "# let's see selling price outlier\n",
    "\n",
    "\n",
    "plt.figure(figsize=(10,10))\n",
    "sns.boxplot(x='selling_price',data=df)"
   ]
  },
  {
   "cell_type": "code",
   "execution_count": null,
   "id": "5a21814c",
   "metadata": {},
   "outputs": [],
   "source": [
    "# see outlier of km_driven\n",
    "plt.figure(figsize=(10,10))\n",
    "sns.boxplot(x='km_driven',data=df)"
   ]
  },
  {
   "cell_type": "markdown",
   "id": "296c4f2b",
   "metadata": {},
   "source": [
    "# Feature Engineering----> Encoding Techniques"
   ]
  },
  {
   "cell_type": "code",
   "execution_count": null,
   "id": "6dc91c7e",
   "metadata": {},
   "outputs": [],
   "source": [
    "df"
   ]
  },
  {
   "cell_type": "markdown",
   "id": "5ebae4b6",
   "metadata": {},
   "source": [
    "### Ordinal Enoding\n",
    "\n",
    "now we will perform ordinal encoding on owner because owner column is follow the order "
   ]
  },
  {
   "cell_type": "code",
   "execution_count": null,
   "id": "b14e41c6",
   "metadata": {},
   "outputs": [],
   "source": [
    "df1=df[['owner']]"
   ]
  },
  {
   "cell_type": "code",
   "execution_count": null,
   "id": "a78a1d5e",
   "metadata": {},
   "outputs": [],
   "source": [
    "df1"
   ]
  },
  {
   "cell_type": "code",
   "execution_count": null,
   "id": "1305416e",
   "metadata": {},
   "outputs": [],
   "source": [
    "df2=df1[['owner']]"
   ]
  },
  {
   "cell_type": "code",
   "execution_count": null,
   "id": "7cd8df84",
   "metadata": {},
   "outputs": [],
   "source": [
    "df2"
   ]
  },
  {
   "cell_type": "code",
   "execution_count": null,
   "id": "2e2dfc82",
   "metadata": {},
   "outputs": [],
   "source": [
    "from sklearn.preprocessing import OrdinalEncoder"
   ]
  },
  {
   "cell_type": "code",
   "execution_count": null,
   "id": "9b1971e2",
   "metadata": {},
   "outputs": [],
   "source": [
    "oe = OrdinalEncoder()"
   ]
  },
  {
   "cell_type": "code",
   "execution_count": null,
   "id": "e2bc8018",
   "metadata": {},
   "outputs": [],
   "source": [
    "oe.fit(df2)"
   ]
  },
  {
   "cell_type": "code",
   "execution_count": null,
   "id": "a3bee244",
   "metadata": {},
   "outputs": [],
   "source": [
    "df2= oe.transform(df2)"
   ]
  },
  {
   "cell_type": "code",
   "execution_count": null,
   "id": "9ff4f3af",
   "metadata": {},
   "outputs": [],
   "source": [
    "df2"
   ]
  },
  {
   "cell_type": "code",
   "execution_count": null,
   "id": "3e1aecde",
   "metadata": {},
   "outputs": [],
   "source": [
    "data_frame=pd.DataFrame(df2,columns=df1.columns)"
   ]
  },
  {
   "cell_type": "code",
   "execution_count": null,
   "id": "75bfa143",
   "metadata": {},
   "outputs": [],
   "source": [
    "data_frame"
   ]
  },
  {
   "cell_type": "code",
   "execution_count": null,
   "id": "d7c08085",
   "metadata": {},
   "outputs": [],
   "source": [
    "new_df=df.drop('owner',axis=1)"
   ]
  },
  {
   "cell_type": "code",
   "execution_count": null,
   "id": "9bd38daa",
   "metadata": {},
   "outputs": [],
   "source": [
    "new_df"
   ]
  },
  {
   "cell_type": "code",
   "execution_count": null,
   "id": "7f1466fb",
   "metadata": {},
   "outputs": [],
   "source": [
    "df = pd.concat([new_df,data_frame],axis = 1)"
   ]
  },
  {
   "cell_type": "code",
   "execution_count": null,
   "id": "24fbac42",
   "metadata": {},
   "outputs": [],
   "source": [
    "df"
   ]
  },
  {
   "cell_type": "markdown",
   "id": "05a4772e",
   "metadata": {},
   "source": [
    "### Label Encoder\n",
    "\n",
    "now we will perfome label encoding remaing columns "
   ]
  },
  {
   "cell_type": "code",
   "execution_count": null,
   "id": "47cb8703",
   "metadata": {},
   "outputs": [],
   "source": [
    "from sklearn.preprocessing import LabelEncoder"
   ]
  },
  {
   "cell_type": "code",
   "execution_count": null,
   "id": "1a501a82",
   "metadata": {},
   "outputs": [],
   "source": [
    "lr=LabelEncoder()"
   ]
  },
  {
   "cell_type": "code",
   "execution_count": null,
   "id": "d1407cce",
   "metadata": {},
   "outputs": [],
   "source": [
    "lr"
   ]
  },
  {
   "cell_type": "code",
   "execution_count": null,
   "id": "be5c3031",
   "metadata": {},
   "outputs": [],
   "source": [
    "df=df.apply(LabelEncoder().fit_transform)"
   ]
  },
  {
   "cell_type": "code",
   "execution_count": null,
   "id": "5fd1b9fb",
   "metadata": {},
   "outputs": [],
   "source": [
    "df"
   ]
  },
  {
   "cell_type": "markdown",
   "id": "8a8566d1",
   "metadata": {},
   "source": [
    "# Data Preprocessing"
   ]
  },
  {
   "cell_type": "code",
   "execution_count": null,
   "id": "99f39eea",
   "metadata": {},
   "outputs": [],
   "source": [
    "x=df.drop('selling_price',axis=1)"
   ]
  },
  {
   "cell_type": "code",
   "execution_count": null,
   "id": "3fab3e75",
   "metadata": {},
   "outputs": [],
   "source": [
    "x"
   ]
  },
  {
   "cell_type": "code",
   "execution_count": null,
   "id": "adfed4dd",
   "metadata": {},
   "outputs": [],
   "source": [
    "y=df['selling_price']"
   ]
  },
  {
   "cell_type": "code",
   "execution_count": null,
   "id": "f8718b8f",
   "metadata": {},
   "outputs": [],
   "source": [
    "y"
   ]
  },
  {
   "cell_type": "markdown",
   "id": "889d5ffb",
   "metadata": {},
   "source": [
    "# Scaling- use standard scaler"
   ]
  },
  {
   "cell_type": "code",
   "execution_count": null,
   "id": "694b8042",
   "metadata": {},
   "outputs": [],
   "source": [
    "from sklearn.preprocessing import StandardScaler"
   ]
  },
  {
   "cell_type": "code",
   "execution_count": null,
   "id": "8d7b66d1",
   "metadata": {},
   "outputs": [],
   "source": [
    "ss=StandardScaler()"
   ]
  },
  {
   "cell_type": "code",
   "execution_count": null,
   "id": "f9624347",
   "metadata": {},
   "outputs": [],
   "source": [
    "ss.fit(x)"
   ]
  },
  {
   "cell_type": "code",
   "execution_count": null,
   "id": "597de15a",
   "metadata": {},
   "outputs": [],
   "source": [
    "x"
   ]
  },
  {
   "cell_type": "code",
   "execution_count": null,
   "id": "84b99a3a",
   "metadata": {},
   "outputs": [],
   "source": [
    "y"
   ]
  },
  {
   "cell_type": "markdown",
   "id": "2d04768d",
   "metadata": {},
   "source": [
    "# Linear Regression "
   ]
  },
  {
   "cell_type": "code",
   "execution_count": null,
   "id": "5945bf73",
   "metadata": {},
   "outputs": [],
   "source": [
    "from sklearn.model_selection import train_test_split"
   ]
  },
  {
   "cell_type": "code",
   "execution_count": null,
   "id": "1fa34a39",
   "metadata": {},
   "outputs": [],
   "source": [
    "x_train,x_test,y_train,y_test=train_test_split(x,y,test_size=.2,random_state=101)"
   ]
  },
  {
   "cell_type": "code",
   "execution_count": null,
   "id": "5ad80ad5",
   "metadata": {},
   "outputs": [],
   "source": [
    "from sklearn.linear_model import LinearRegression"
   ]
  },
  {
   "cell_type": "code",
   "execution_count": null,
   "id": "baf174e3",
   "metadata": {},
   "outputs": [],
   "source": [
    "lr=LinearRegression()"
   ]
  },
  {
   "cell_type": "code",
   "execution_count": null,
   "id": "be45d251",
   "metadata": {},
   "outputs": [],
   "source": [
    "lr.fit(x_train,y_train)"
   ]
  },
  {
   "cell_type": "code",
   "execution_count": null,
   "id": "7e005c6b",
   "metadata": {},
   "outputs": [],
   "source": [
    "lr.score(x_test,y_test)"
   ]
  },
  {
   "cell_type": "code",
   "execution_count": null,
   "id": "5e4cc496",
   "metadata": {},
   "outputs": [],
   "source": []
  },
  {
   "cell_type": "markdown",
   "id": "164795b0",
   "metadata": {},
   "source": [
    "# CONCLUSION"
   ]
  },
  {
   "cell_type": "markdown",
   "id": "d0d8b3d9",
   "metadata": {},
   "source": [
    "We tried predicting the car price using the various parameters that were provided in\n",
    " the data about the car. We build machine learning models to predict car prices .I \n",
    "have found that the Linear Regression feature  sets performed better than others. It \n",
    "gave the score of 65%.It will be used by the management to understand how exactly the \n",
    "prices vary with the independent variables. They  can accordingly manipulate the \n",
    "Design of  the cars to meet certain price levels.\n"
   ]
  },
  {
   "cell_type": "code",
   "execution_count": null,
   "id": "9d0499a8",
   "metadata": {},
   "outputs": [],
   "source": []
  }
 ],
 "metadata": {
  "kernelspec": {
   "display_name": "Python 3 (ipykernel)",
   "language": "python",
   "name": "python3"
  },
  "language_info": {
   "codemirror_mode": {
    "name": "ipython",
    "version": 3
   },
   "file_extension": ".py",
   "mimetype": "text/x-python",
   "name": "python",
   "nbconvert_exporter": "python",
   "pygments_lexer": "ipython3",
   "version": "3.9.13"
  }
 },
 "nbformat": 4,
 "nbformat_minor": 5
}
